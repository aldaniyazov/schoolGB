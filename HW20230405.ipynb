{
 "cells": [
  {
   "attachments": {},
   "cell_type": "markdown",
   "metadata": {},
   "source": [
    "Задача 38: Дополнить телефонный справочник возможностью изменения и удаления данных. Пользователь также может ввести имя или фамилию, и Вы должны реализовать функционал для изменения и удаления данных"
   ]
  },
  {
   "cell_type": "code",
   "execution_count": null,
   "metadata": {},
   "outputs": [],
   "source": [
    "def change_contact_info(name, phone=None, email=None):\n",
    "    with open('phonebook.txt', 'r') as f:\n",
    "        lines = f.readlines()\n",
    "    with open('phonebook.txt', 'w') as f:\n",
    "        for line in lines:\n",
    "            contact = line.strip().split(',')\n",
    "            if contact[0].lower() == name.lower() or contact[1].lower() == name.lower():\n",
    "                if phone:\n",
    "                    contact[2] = phone\n",
    "                if email:\n",
    "                    contact[3] = email\n",
    "                line = ','.join(contact) + '\\n'\n",
    "            f.write(line)\n",
    "\n",
    "def delete_contact(name):\n",
    "    with open('phonebook.txt', 'r') as f:\n",
    "        lines = f.readlines()\n",
    "    with open('phonebook.txt', 'w') as f:\n",
    "        for line in lines:\n",
    "            contact = line.strip().split(',')\n",
    "            if not (contact[0].lower() == name.lower() or contact[1].lower() == name.lower()):\n",
    "                f.write(line)\n"
   ]
  }
 ],
 "metadata": {
  "kernelspec": {
   "display_name": "Python 3",
   "language": "python",
   "name": "python3"
  },
  "language_info": {
   "codemirror_mode": {
    "name": "ipython",
    "version": 3
   },
   "file_extension": ".py",
   "mimetype": "text/x-python",
   "name": "python",
   "nbconvert_exporter": "python",
   "pygments_lexer": "ipython3",
   "version": "3.11.2"
  },
  "orig_nbformat": 4
 },
 "nbformat": 4,
 "nbformat_minor": 2
}
