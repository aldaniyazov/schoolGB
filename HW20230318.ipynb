{
 "cells": [
  {
   "attachments": {},
   "cell_type": "markdown",
   "metadata": {},
   "source": [
    "Задача 10: На столе лежат n монеток. Некоторые из них лежат вверх решкой, а некоторые – гербом. Определите минимальное число монеток, которые нужно перевернуть, чтобы все монетки были повернуты вверх одной и той же стороной. Выведите минимальное количество монет, которые нужно перевернуть"
   ]
  },
  {
   "cell_type": "code",
   "execution_count": 8,
   "metadata": {},
   "outputs": [
    {
     "name": "stdout",
     "output_type": "stream",
     "text": [
      "4\n"
     ]
    }
   ],
   "source": [
    "coins = [1, 0, 1, 1, 0, 1, 0, 0, 1]\n",
    "\n",
    "heads = 0  # количество монеток, лежащих решкой вверх\n",
    "tails = 0  # количество монеток, лежащих гербом вверх\n",
    "\n",
    "for coin in coins:\n",
    "    if coin == 1:\n",
    "        heads += 1\n",
    "    else:\n",
    "        tails += 1\n",
    "\n",
    "if heads > tails:\n",
    "    flips = tails  # перевернуть все монетки гербом вверх\n",
    "else:\n",
    "    flips = heads  # перевернуть все монетки решкой вверх\n",
    "\n",
    "print(flips)  # минимальное количество монеток, которые нужно перевернуть"
   ]
  },
  {
   "attachments": {},
   "cell_type": "markdown",
   "metadata": {},
   "source": [
    "Задача 12: Петя и Катя – брат и сестра. Петя – студент, а Катя – школьница. Петя помогает Кате по математике. Он задумывает два натуральных числа X и Y (X,Y≤1000), а Катя должна их отгадать. Для этого Петя делает две подсказки. Он называет сумму этих чисел S и их произведение P. Помогите Кате отгадать задуманные Петей числа."
   ]
  },
  {
   "cell_type": "code",
   "execution_count": 11,
   "metadata": {},
   "outputs": [
    {
     "name": "stdout",
     "output_type": "stream",
     "text": [
      "Ответ: 4 и 6\n"
     ]
    }
   ],
   "source": [
    "S = int(input(\"Введите сумму: \"))\n",
    "P = int(input(\"Введите произведение: \"))\n",
    "\n",
    "for a in range(1, P+1):\n",
    "    if P % a == 0:\n",
    "        b = P // a\n",
    "        if a + b == S:\n",
    "            print(f\"Ответ: {a} и {b}\")\n",
    "            break\n",
    "    else:\n",
    "        print(\"Числа не найдены\")"
   ]
  },
  {
   "attachments": {},
   "cell_type": "markdown",
   "metadata": {},
   "source": [
    "Задача 14: Требуется вывести все целые степени двойки (т.е. числа вида 2k), не превосходящие числа N."
   ]
  },
  {
   "cell_type": "code",
   "execution_count": 12,
   "metadata": {},
   "outputs": [
    {
     "name": "stdout",
     "output_type": "stream",
     "text": [
      "1\n",
      "2\n",
      "4\n",
      "8\n",
      "16\n",
      "32\n",
      "64\n"
     ]
    }
   ],
   "source": [
    "N = int(input(\"Введите число N: \"))\n",
    "k = 0\n",
    "two_K = 1\n",
    "\n",
    "while two_K <= N:\n",
    "    print(two_K)\n",
    "    k += 1\n",
    "    two_K = 2 ** k"
   ]
  }
 ],
 "metadata": {
  "kernelspec": {
   "display_name": "Python 3",
   "language": "python",
   "name": "python3"
  },
  "language_info": {
   "codemirror_mode": {
    "name": "ipython",
    "version": 3
   },
   "file_extension": ".py",
   "mimetype": "text/x-python",
   "name": "python",
   "nbconvert_exporter": "python",
   "pygments_lexer": "ipython3",
   "version": "3.11.2"
  },
  "orig_nbformat": 4
 },
 "nbformat": 4,
 "nbformat_minor": 2
}
