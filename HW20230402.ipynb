{
 "cells": [
  {
   "attachments": {},
   "cell_type": "markdown",
   "metadata": {},
   "source": [
    "Задача 30:  Заполните массив элементами арифметической прогрессии. Её первый элемент, разность и количество элементов нужно ввести с клавиатуры. Формула для получения n-го члена прогрессии: an = a1 + (n-1) * d.\n",
    "Каждое число вводится с новой строки."
   ]
  },
  {
   "cell_type": "code",
   "execution_count": 1,
   "metadata": {},
   "outputs": [
    {
     "name": "stdout",
     "output_type": "stream",
     "text": [
      "Арифметическая прогрессия: \n",
      "2\n",
      "5\n",
      "8\n",
      "11\n",
      "14\n"
     ]
    }
   ],
   "source": [
    "a = int(input(\"Введите первый элемент: \"))\n",
    "d = int(input(\"Введите разность: \"))\n",
    "n = int(input(\"Введите количество элементов: \"))\n",
    "\n",
    "# Создаем массив и заполняем его элементами арифметической прогрессии\n",
    "progression = [a + (i-1) * d for i in range(1, n+1)]\n",
    "\n",
    "# Выводим массив на экран\n",
    "print(\"Арифметическая прогрессия: \")\n",
    "for num in progression:\n",
    "    print(num)"
   ]
  },
  {
   "attachments": {},
   "cell_type": "markdown",
   "metadata": {},
   "source": [
    "Решение GeekBrains"
   ]
  },
  {
   "cell_type": "code",
   "execution_count": 3,
   "metadata": {},
   "outputs": [
    {
     "name": "stdout",
     "output_type": "stream",
     "text": [
      "2\n",
      "5\n",
      "8\n",
      "11\n",
      "14\n"
     ]
    }
   ],
   "source": [
    "a1 = int(input())\n",
    "d = int(input())\n",
    "n = int(input())\n",
    "for i in range(n):\n",
    "    print(a1 + i * d)"
   ]
  },
  {
   "attachments": {},
   "cell_type": "markdown",
   "metadata": {},
   "source": [
    "Задача 32: Определить индексы элементов массива (списка), значения которых принадлежат заданному диапазону (т.е. не меньше заданного минимума и не больше заданного максимума)"
   ]
  },
  {
   "cell_type": "code",
   "execution_count": 5,
   "metadata": {},
   "outputs": [
    {
     "name": "stdout",
     "output_type": "stream",
     "text": [
      "[0, 1, 5, 7]\n"
     ]
    }
   ],
   "source": [
    "def find_indexes(lst, min_val, max_val):\n",
    "    return [i for i, x in enumerate(lst) if min_val <= x <= max_val]\n",
    "\n",
    "arr = [3, 6, 2, 1, 8, 4, 9, 5]\n",
    "min_val = 3\n",
    "max_val = 7\n",
    "indexes = find_indexes(arr, min_val, max_val)\n",
    "print(indexes)"
   ]
  },
  {
   "attachments": {},
   "cell_type": "markdown",
   "metadata": {},
   "source": [
    "Решение GeekBrains"
   ]
  },
  {
   "cell_type": "code",
   "execution_count": 6,
   "metadata": {},
   "outputs": [
    {
     "name": "stdout",
     "output_type": "stream",
     "text": [
      "3\n",
      "10\n"
     ]
    }
   ],
   "source": [
    "list_1 = [-5, 9, 0, 3, -1, -2, 1, 4, -2, 10, 2, 0, -9, 8, 10, -9, 0, -5, -5, 7]\n",
    "min_number = int(input())\n",
    "max_number = int(input())\n",
    "for i in range(len(list_1)):\n",
    "    if min_number <= list_1[i] <= max_number:\n",
    "        print(i)"
   ]
  }
 ],
 "metadata": {
  "kernelspec": {
   "display_name": "Python 3",
   "language": "python",
   "name": "python3"
  },
  "language_info": {
   "codemirror_mode": {
    "name": "ipython",
    "version": 3
   },
   "file_extension": ".py",
   "mimetype": "text/x-python",
   "name": "python",
   "nbconvert_exporter": "python",
   "pygments_lexer": "ipython3",
   "version": "3.11.2"
  },
  "orig_nbformat": 4,
  "vscode": {
   "interpreter": {
    "hash": "1a1af0ee75eeea9e2e1ee996c87e7a2b11a0bebd85af04bb136d915cefc0abce"
   }
  }
 },
 "nbformat": 4,
 "nbformat_minor": 2
}
