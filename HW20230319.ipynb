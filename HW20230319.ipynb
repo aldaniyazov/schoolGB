{
 "cells": [
  {
   "attachments": {},
   "cell_type": "markdown",
   "metadata": {},
   "source": [
    "Задача 16: Требуется вычислить, сколько раз встречается некоторое число X в массиве A[1..N]. Пользователь в первой строке вводит натуральное число N – количество элементов в массиве. В последующих  строках записаны N целых чисел Ai. Последняя строка содержит число X\n",
    "\n",
    "*Пример:*\n",
    "\n",
    "5\n",
    "    1 2 3 4 5\n",
    "    3\n",
    "    -> 1"
   ]
  },
  {
   "cell_type": "code",
   "execution_count": 1,
   "metadata": {},
   "outputs": [
    {
     "name": "stdout",
     "output_type": "stream",
     "text": [
      "Число X встречается в массиве 1 раз(а)\n"
     ]
    }
   ],
   "source": [
    "N = int(input(\"Введите количество элементов в массиве: \"))\n",
    "A = list(map(int, input(\"Введите элементы массива через пробел: \").split()))\n",
    "X = int(input(\"Введите число X: \"))\n",
    "\n",
    "count = 0\n",
    "for i in range(N):\n",
    "    if A[i] == X:\n",
    "        count += 1\n",
    "\n",
    "print(\"Число X встречается в массиве\", count, \"раз(а)\")"
   ]
  },
  {
   "attachments": {},
   "cell_type": "markdown",
   "metadata": {},
   "source": [
    "Задача 18: Требуется найти в массиве A[1..N] самый близкий по величине элемент к заданному числу X. Пользователь в первой строке вводит натуральное число N – количество элементов в массиве. В последующих  строках записаны N целых чисел Ai. Последняя строка содержит число X\n",
    "\n",
    "*Пример:*\n",
    "\n",
    "5\n",
    "    1 2 3 4 5\n",
    "    6\n",
    "    -> 5"
   ]
  },
  {
   "cell_type": "code",
   "execution_count": 2,
   "metadata": {},
   "outputs": [
    {
     "name": "stdout",
     "output_type": "stream",
     "text": [
      "Самый близкий к числу X элемент массива:  5\n"
     ]
    }
   ],
   "source": [
    "N = int(input(\"Введите количество элементов в массиве: \"))\n",
    "A = list(map(int, input(\"Введите элементы массива через пробел: \").split()))\n",
    "X = int(input(\"Введите число X: \"))\n",
    "\n",
    "min_diff = abs(A[0] - X)\n",
    "min_element = A[0]\n",
    "for i in range(1, N):\n",
    "    diff = abs(A[i] - X)\n",
    "    if diff < min_diff:\n",
    "        min_diff = diff\n",
    "        min_element = A[i]\n",
    "\n",
    "print(\"Самый близкий к числу X элемент массива: \", min_element)"
   ]
  },
  {
   "attachments": {},
   "cell_type": "markdown",
   "metadata": {},
   "source": [
    "*Задача 20:* В настольной игре Скрабл (Scrabble) каждая буква имеет определенную ценность. В случае с английским алфавитом очки распределяются так:A, E, I, O, U, L, N, S, T, R – 1 очко; D, G – 2 очка; B, C, M, P – 3 очка; F, H, V, W, Y – 4 очка; K – 5 очков; J, X – 8 очков; Q, Z – 10 очков. А русские буквы оцениваются так: А, В, Е, И, Н, О, Р, С, Т – 1 очко; Д, К, Л, М, П, У – 2 очка; Б, Г, Ё, Ь, Я – 3 очка; Й, Ы – 4 очка; Ж, З, Х, Ц, Ч – 5 очков; Ш, Э, Ю – 8 очков; Ф, Щ, Ъ – 10 очков. Напишите программу, которая вычисляет стоимость введенного пользователем слова. Будем считать, что на вход подается только одно слово, которое содержит либо только английские, либо только русские буквы.\n",
    "\n",
    "*Пример:*\n",
    "\n",
    "ноутбук\n",
    "    12"
   ]
  },
  {
   "cell_type": "code",
   "execution_count": 3,
   "metadata": {},
   "outputs": [
    {
     "name": "stdout",
     "output_type": "stream",
     "text": [
      "14\n"
     ]
    }
   ],
   "source": [
    "scores = {\n",
    "    'A': 1, 'B': 3, 'C': 3, 'D': 2, 'E': 1, 'F': 4, 'G': 2, 'H': 4,\n",
    "    'I': 1, 'J': 8, 'K': 5, 'L': 1, 'M': 3, 'N': 1, 'O': 1, 'P': 3,\n",
    "    'Q': 10, 'R': 1, 'S': 1, 'T': 1, 'U': 1, 'V': 4, 'W': 4, 'X': 8,\n",
    "    'Y': 4, 'Z': 10\n",
    "}\n",
    "\n",
    "word = input().upper()\n",
    "score = sum(scores.get(letter, 0) for letter in word)\n",
    "print(score)"
   ]
  }
 ],
 "metadata": {
  "kernelspec": {
   "display_name": "Python 3",
   "language": "python",
   "name": "python3"
  },
  "language_info": {
   "codemirror_mode": {
    "name": "ipython",
    "version": 3
   },
   "file_extension": ".py",
   "mimetype": "text/x-python",
   "name": "python",
   "nbconvert_exporter": "python",
   "pygments_lexer": "ipython3",
   "version": "3.11.2"
  },
  "orig_nbformat": 4
 },
 "nbformat": 4,
 "nbformat_minor": 2
}
