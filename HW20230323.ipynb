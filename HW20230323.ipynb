{
 "cells": [
  {
   "attachments": {},
   "cell_type": "markdown",
   "metadata": {},
   "source": [
    "Задача 22: Даны два неупорядоченных набора целых чисел (может быть, с повторениями). Выдать без повторений в порядке возрастания все те числа, которые встречаются в обоих наборах.\n",
    "Пользователь вводит 2 числа. n - кол-во элементов первого множества. m - кол-во элементов второго множества. Затем пользователь вводит сами элементы множеств."
   ]
  },
  {
   "cell_type": "code",
   "execution_count": 2,
   "metadata": {},
   "outputs": [
    {
     "name": "stdout",
     "output_type": "stream",
     "text": [
      "Числа, которые встречаются в обоих множествах и без повторений: [3, 4, 5]\n"
     ]
    }
   ],
   "source": [
    "n = int(input(\"Введите количество элементов первого множества: \"))\n",
    "a = set(map(int, input(\"Введите элементы первого множества через пробел: \").split()))\n",
    "m = int(input(\"Введите количество элементов второго множества: \"))\n",
    "b = set(map(int, input(\"Введите элементы второго множества через пробел: \").split()))\n",
    "\n",
    "intersection = sorted(list(a & b))\n",
    "\n",
    "print(\"Числа, которые встречаются в обоих множествах и без повторений:\", intersection)"
   ]
  },
  {
   "attachments": {},
   "cell_type": "markdown",
   "metadata": {},
   "source": [
    "Вариант преподавателя"
   ]
  },
  {
   "cell_type": "code",
   "execution_count": 4,
   "metadata": {},
   "outputs": [
    {
     "name": "stdout",
     "output_type": "stream",
     "text": [
      "3 4 5 "
     ]
    }
   ],
   "source": [
    "mol = [int(x) for x in input().split()]\n",
    "n = mol[0]\n",
    "m = mol[1]\n",
    "set_1 = set()\n",
    "set_2 = set()\n",
    "list_1 = list()\n",
    "a = [int(x) for x in input().split()]\n",
    "k = set(a)\n",
    "for i in k:\n",
    "    set_1.add(i)\n",
    "b = [int(x) for x in input().split()]\n",
    "k1 = set(b)\n",
    "for i in k1:\n",
    "    set_2.add(i)\n",
    "lok = set_1 & set_2\n",
    "kool = list(lok)\n",
    "kool.sort()\n",
    "for i in kool:\n",
    "    print(i, end=' ')"
   ]
  },
  {
   "attachments": {},
   "cell_type": "markdown",
   "metadata": {},
   "source": [
    "Задача 24: В фермерском хозяйстве в Карелии выращивают чернику. Она растет на круглой грядке, причем кусты высажены только по окружности. Таким образом, у каждого куста есть ровно два соседних. Всего на грядке растет N кустов.\n",
    "Эти кусты обладают разной урожайностью, поэтому ко времени сбора на них выросло различное число ягод – на i-ом кусте выросло ai ягод.\n",
    "В этом фермерском хозяйстве внедрена система автоматического сбора черники. Эта система состоит из управляющего модуля и нескольких собирающих модулей. Собирающий модуль за один заход, находясь непосредственно перед некоторым кустом, собирает ягоды с этого куста и с двух соседних с ним.\n",
    "Напишите программу для нахождения максимального числа ягод, которое может собрать за один заход собирающий модуль, находясь перед некоторым кустом заданной во входном файле грядки."
   ]
  },
  {
   "cell_type": "code",
   "execution_count": 5,
   "metadata": {},
   "outputs": [
    {
     "name": "stdout",
     "output_type": "stream",
     "text": [
      "9\n"
     ]
    }
   ],
   "source": [
    "n = int(input())\n",
    "a = list(map(int, input().split()))\n",
    "\n",
    "# инициализация массива dp\n",
    "dp = [0] * n\n",
    "dp[0] = a[0]\n",
    "dp[1] = max(a[0], a[1])\n",
    "\n",
    "# вычисление массива dp\n",
    "for i in range(2, n):\n",
    "    dp[i] = max(dp[i-2] + a[i], dp[i-1])\n",
    "\n",
    "# поиск максимального значения в массиве dp\n",
    "ans = max(dp)\n",
    "\n",
    "print(ans)"
   ]
  },
  {
   "attachments": {},
   "cell_type": "markdown",
   "metadata": {},
   "source": [
    "Решение преподавателя"
   ]
  },
  {
   "cell_type": "code",
   "execution_count": 10,
   "metadata": {},
   "outputs": [
    {
     "name": "stdout",
     "output_type": "stream",
     "text": [
      "12\n"
     ]
    }
   ],
   "source": [
    "n = int(input())\n",
    "arr = list()\n",
    "for i in range(n):\n",
    "    x = int(input())\n",
    "    arr.append(x)\n",
    "\n",
    "arr_count = list()\n",
    "for i in range(len(arr) - 1):\n",
    "    arr_count.append(arr[i - 1] + arr[i] + arr[i + 1])\n",
    "arr_count.append(arr[-2] + arr[-1] + arr[0])\n",
    "print(max(arr_count))"
   ]
  }
 ],
 "metadata": {
  "kernelspec": {
   "display_name": "Python 3",
   "language": "python",
   "name": "python3"
  },
  "language_info": {
   "codemirror_mode": {
    "name": "ipython",
    "version": 3
   },
   "file_extension": ".py",
   "mimetype": "text/x-python",
   "name": "python",
   "nbconvert_exporter": "python",
   "pygments_lexer": "ipython3",
   "version": "3.11.2"
  },
  "orig_nbformat": 4
 },
 "nbformat": 4,
 "nbformat_minor": 2
}
