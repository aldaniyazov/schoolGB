{
 "cells": [
  {
   "attachments": {},
   "cell_type": "markdown",
   "metadata": {},
   "source": [
    "Задача 34:  Винни-Пух попросил Вас посмотреть, есть ли в его стихах ритм. Поскольку разобраться в его кричалках не настолько просто, насколько легко он их придумывает, Вам стоит написать программу. Винни-Пух считает, что ритм есть, если число слогов (т.е. число гласных букв) в каждой фразе стихотворения одинаковое. Фраза может состоять из одного слова, если во фразе несколько слов, то они разделяются дефисами. Фразы отделяются друг от друга пробелами. Стихотворение  Винни-Пух вбивает в программу с клавиатуры. В ответе напишите “Парам пам-пам”, если с ритмом все в порядке и “Пам парам”, если с ритмом все не в порядке"
   ]
  },
  {
   "cell_type": "code",
   "execution_count": 2,
   "metadata": {},
   "outputs": [
    {
     "name": "stdout",
     "output_type": "stream",
     "text": [
      "Парам пам-пам\n"
     ]
    }
   ],
   "source": [
    "def count_vowels(word):\n",
    "    vowels = \"ауоыэяюёие\"\n",
    "    count = 0\n",
    "    for letter in word:\n",
    "        if letter.lower() in vowels:\n",
    "            count += 1\n",
    "    return count\n",
    "\n",
    "\n",
    "def check_rhythm(phrase_list):\n",
    "    syllable_count = list(map(count_vowels, phrase_list))\n",
    "    if all(x == syllable_count[0] for x in syllable_count):\n",
    "        print(\"Парам пам-пам\")\n",
    "    else:\n",
    "        print(\"Пам парам\")\n",
    "\n",
    "\n",
    "poem = input(\"Введите стихотворение Винни-Пуха: \")\n",
    "phrase_list = poem.split()\n",
    "check_rhythm(phrase_list)"
   ]
  },
  {
   "attachments": {},
   "cell_type": "markdown",
   "metadata": {},
   "source": [
    "Задача 36: Напишите функцию print_operation_table(operation, num_rows=6, num_columns=6), которая принимает в качестве аргумента функцию, вычисляющую элемент по номеру строки и столбца. Аргументы num_rows и num_columns указывают число строк и столбцов таблицы, которые должны быть распечатаны. Нумерация строк и столбцов идет с единицы (подумайте, почему не с нуля). Примечание: бинарной операцией называется любая операция, у которой ровно два аргумента, как, например, у операции умножения."
   ]
  },
  {
   "cell_type": "code",
   "execution_count": 4,
   "metadata": {},
   "outputs": [
    {
     "name": "stdout",
     "output_type": "stream",
     "text": [
      "   1    2    3    4    5    6 \n",
      "   2    4    6    8   10   12 \n",
      "   3    6    9   12   15   18 \n",
      "   4    8   12   16   20   24 \n",
      "   5   10   15   20   25   30 \n",
      "   6   12   18   24   30   36 \n"
     ]
    }
   ],
   "source": [
    "def print_operation_table(operation, num_rows=6, num_columns=6):\n",
    "    for row in range(1, num_rows + 1):\n",
    "        for col in range(1, num_columns + 1):\n",
    "            value = operation(row, col)\n",
    "            print(f\"{value:4d}\", end=\" \")\n",
    "        print()\n",
    "\n",
    "# Пример использования функции с операцией умножения\n",
    "print_operation_table(lambda x, y: x * y)"
   ]
  }
 ],
 "metadata": {
  "kernelspec": {
   "display_name": "Python 3",
   "language": "python",
   "name": "python3"
  },
  "language_info": {
   "codemirror_mode": {
    "name": "ipython",
    "version": 3
   },
   "file_extension": ".py",
   "mimetype": "text/x-python",
   "name": "python",
   "nbconvert_exporter": "python",
   "pygments_lexer": "ipython3",
   "version": "3.11.2"
  },
  "orig_nbformat": 4
 },
 "nbformat": 4,
 "nbformat_minor": 2
}
