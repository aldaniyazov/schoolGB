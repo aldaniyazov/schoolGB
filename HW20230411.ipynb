{
 "cells": [
  {
   "attachments": {},
   "cell_type": "markdown",
   "metadata": {},
   "source": [
    "| Задание 44 |\n",
    "| --- |\n",
    "| В ячейке ниже представлен код генерирующий DataFrame, которая состоит всего из 1 столбца. Ваша задача перевести его в one hot вид. Сможете ли вы это сделать без get_dummies?\n",
    "\n",
    "import random\n",
    "lst = ['robot'] * 10\n",
    "lst += ['human'] * 10\n",
    "random.shuffle(lst)\n",
    "data = pd.DataFrame({'whoAmI'lst})\n",
    "data.head() |"
   ]
  },
  {
   "cell_type": "code",
   "execution_count": 1,
   "metadata": {},
   "outputs": [],
   "source": [
    "import pandas as pd\n",
    "import random"
   ]
  },
  {
   "cell_type": "code",
   "execution_count": 8,
   "metadata": {},
   "outputs": [
    {
     "name": "stdout",
     "output_type": "stream",
     "text": [
      "   who am I?\n",
      "0      human\n",
      "1      human\n",
      "2      human\n",
      "3      human\n",
      "4      robot\n",
      "5      human\n",
      "6      human\n",
      "7      robot\n",
      "8      robot\n",
      "9      human\n",
      "10     human\n",
      "11     human\n",
      "12     human\n",
      "13     robot\n",
      "14     robot\n",
      "15     robot\n",
      "16     robot\n",
      "17     robot\n",
      "18     robot\n",
      "19     robot\n"
     ]
    }
   ],
   "source": [
    "lst = ['robot'] * 10\n",
    "lst += ['human'] * 10\n",
    "random.shuffle(lst)\n",
    "data = pd.DataFrame({'who am I?': lst})\n",
    "print(data)"
   ]
  },
  {
   "cell_type": "code",
   "execution_count": 9,
   "metadata": {},
   "outputs": [
    {
     "name": "stdout",
     "output_type": "stream",
     "text": [
      "   who am I?  human  robot\n",
      "0      human      1      0\n",
      "1      human      1      0\n",
      "2      human      1      0\n",
      "3      human      1      0\n",
      "4      robot      0      1\n",
      "5      human      1      0\n",
      "6      human      1      0\n",
      "7      robot      0      1\n",
      "8      robot      0      1\n",
      "9      human      1      0\n",
      "10     human      1      0\n",
      "11     human      1      0\n",
      "12     human      1      0\n",
      "13     robot      0      1\n",
      "14     robot      0      1\n",
      "15     robot      0      1\n",
      "16     robot      0      1\n",
      "17     robot      0      1\n",
      "18     robot      0      1\n",
      "19     robot      0      1\n"
     ]
    }
   ],
   "source": [
    "one_hot = pd.get_dummies(data['who am I?'])\n",
    "data = data.join(one_hot)\n",
    "print(data)"
   ]
  }
 ],
 "metadata": {
  "kernelspec": {
   "display_name": "Python 3",
   "language": "python",
   "name": "python3"
  },
  "language_info": {
   "codemirror_mode": {
    "name": "ipython",
    "version": 3
   },
   "file_extension": ".py",
   "mimetype": "text/x-python",
   "name": "python",
   "nbconvert_exporter": "python",
   "pygments_lexer": "ipython3",
   "version": "3.11.3"
  },
  "orig_nbformat": 4
 },
 "nbformat": 4,
 "nbformat_minor": 2
}
